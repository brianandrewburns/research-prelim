{
 "cells": [
  {
   "cell_type": "markdown",
   "id": "guilty-vegetarian",
   "metadata": {},
   "source": [
    "## Install river and scikit-learn"
   ]
  },
  {
   "cell_type": "code",
   "execution_count": null,
   "id": "green-vampire",
   "metadata": {},
   "outputs": [],
   "source": [
    "# Install the submodules\n",
    "# pip install river\n",
    "# pip install scikit-learn"
   ]
  },
  {
   "cell_type": "code",
   "execution_count": 1,
   "id": "incomplete-utility",
   "metadata": {},
   "outputs": [
    {
     "name": "stdout",
     "output_type": "stream",
     "text": [
      "Processing ./river\n",
      "Requirement already satisfied: numpy>=1.20.0 in /Users/brianburns/ml/my_env/lib/python3.9/site-packages (from river==1) (1.22.4)\n",
      "Requirement already satisfied: scipy>=1.4.1 in /Users/brianburns/ml/my_env/lib/python3.9/site-packages (from river==1) (1.6.1)\n",
      "Requirement already satisfied: pandas>=1.0.1 in /Users/brianburns/ml/my_env/lib/python3.9/site-packages (from river==1) (1.2.3)\n",
      "Requirement already satisfied: sortedcontainers in /Users/brianburns/ml/my_env/lib/python3.9/site-packages (from river==1) (2.4.0)\n",
      "Requirement already satisfied: datasketches in /Users/brianburns/ml/my_env/lib/python3.9/site-packages (from river==1) (3.4.0)\n",
      "Requirement already satisfied: python-dateutil>=2.7.3 in /Users/brianburns/ml/my_env/lib/python3.9/site-packages (from pandas>=1.0.1->river==1) (2.8.1)\n",
      "Requirement already satisfied: pytz>=2017.3 in /Users/brianburns/ml/my_env/lib/python3.9/site-packages (from pandas>=1.0.1->river==1) (2021.1)\n",
      "Requirement already satisfied: six>=1.5 in /Users/brianburns/ml/my_env/lib/python3.9/site-packages (from python-dateutil>=2.7.3->pandas>=1.0.1->river==1) (1.15.0)\n",
      "Building wheels for collected packages: river\n",
      "  Building wheel for river (setup.py) ... \u001b[?25ldone\n",
      "\u001b[?25h  Created wheel for river: filename=river-1-cp39-cp39-macosx_10_9_x86_64.whl size=1195780 sha256=063aa1c6d588d54b70eda4477e5abfdff7e353a56e9b8ac3353f4324ecf9cc03\n",
      "  Stored in directory: /private/var/folders/s0/cs0fw3px6tx5srp431pdvjc80000gn/T/pip-ephem-wheel-cache-v3adhme2/wheels/d1/6b/a3/83d8a39007debc0733461c491a8263c5af566254c5860a1a1a\n",
      "Successfully built river\n",
      "Installing collected packages: river\n",
      "  Attempting uninstall: river\n",
      "    Found existing installation: river 1\n",
      "    Uninstalling river-1:\n",
      "      Successfully uninstalled river-1\n",
      "Successfully installed river-1\n",
      "\u001b[33mWARNING: You are using pip version 21.0.1; however, version 22.1.1 is available.\n",
      "You should consider upgrading via the '/Users/brianburns/ml/my_env/bin/python3 -m pip install --upgrade pip' command.\u001b[0m\n",
      "Note: you may need to restart the kernel to use updated packages.\n"
     ]
    }
   ],
   "source": [
    "pip install \"./river/\""
   ]
  },
  {
   "cell_type": "code",
   "execution_count": 2,
   "id": "interested-vector",
   "metadata": {},
   "outputs": [
    {
     "name": "stdout",
     "output_type": "stream",
     "text": [
      "Processing ./scikit-garden\n",
      "Requirement already satisfied: numpy in /Users/brianburns/ml/my_env/lib/python3.9/site-packages (from scikit-garden==0.1.3) (1.22.4)\n",
      "Requirement already satisfied: scipy in /Users/brianburns/ml/my_env/lib/python3.9/site-packages (from scikit-garden==0.1.3) (1.6.1)\n",
      "Requirement already satisfied: scikit-learn>=0.18 in /Users/brianburns/ml/my_env/lib/python3.9/site-packages (from scikit-garden==0.1.3) (0.24.1)\n",
      "Requirement already satisfied: cython in /Users/brianburns/ml/my_env/lib/python3.9/site-packages (from scikit-garden==0.1.3) (0.29.30)\n",
      "Requirement already satisfied: threadpoolctl>=2.0.0 in /Users/brianburns/ml/my_env/lib/python3.9/site-packages (from scikit-learn>=0.18->scikit-garden==0.1.3) (2.1.0)\n",
      "Requirement already satisfied: joblib>=0.11 in /Users/brianburns/ml/my_env/lib/python3.9/site-packages (from scikit-learn>=0.18->scikit-garden==0.1.3) (1.0.1)\n",
      "Building wheels for collected packages: scikit-garden\n",
      "  Building wheel for scikit-garden (setup.py) ... \u001b[?25ldone\n",
      "\u001b[?25h  Created wheel for scikit-garden: filename=scikit_garden-0.1.3-cp39-cp39-macosx_10_9_x86_64.whl size=530087 sha256=20fe418083ddcd27e2fd796fb87a854e33f904287695b8362e70b74fd4741980\n",
      "  Stored in directory: /Users/brianburns/Library/Caches/pip/wheels/cc/96/10/f1f98c7ebcbb916ea7b0a696a32ae8d73b3ed876c5d2911053\n",
      "Successfully built scikit-garden\n",
      "Installing collected packages: scikit-garden\n",
      "  Attempting uninstall: scikit-garden\n",
      "    Found existing installation: scikit-garden 0.1.3\n",
      "    Uninstalling scikit-garden-0.1.3:\n",
      "      Successfully uninstalled scikit-garden-0.1.3\n",
      "Successfully installed scikit-garden-0.1.3\n",
      "\u001b[33mWARNING: You are using pip version 21.0.1; however, version 22.1.1 is available.\n",
      "You should consider upgrading via the '/Users/brianburns/ml/my_env/bin/python3 -m pip install --upgrade pip' command.\u001b[0m\n",
      "Note: you may need to restart the kernel to use updated packages.\n"
     ]
    }
   ],
   "source": [
    "pip install \"./scikit-garden/\""
   ]
  },
  {
   "cell_type": "markdown",
   "id": "sonic-consumer",
   "metadata": {},
   "source": [
    "## Imports"
   ]
  },
  {
   "cell_type": "code",
   "execution_count": 49,
   "id": "genetic-price",
   "metadata": {},
   "outputs": [],
   "source": [
    "from river import stream\n",
    "import matplotlib.pyplot as plt\n",
    "from river.ensemble import AdaptiveRandomForestRegressorCP, AdaptiveRandomForestRegressorQRF\n",
    "from skgarden.mondrian import RiverMondrianForestRegressor\n",
    "import datetime\n",
    "import os\n",
    "import pickle\n",
    "from datetime import datetime\n",
    "import time"
   ]
  },
  {
   "cell_type": "code",
   "execution_count": 13,
   "id": "above-exclusive",
   "metadata": {},
   "outputs": [],
   "source": [
    "def get_target_variable(file_path):\n",
    "    \"\"\"\n",
    "    Our data files have different names for the target variable.\n",
    "    This returns the string name of the target variable of a dataset in an arff file.\n",
    "    \"\"\"\n",
    "    data_stream = stream.iter_arff(file_path)\n",
    "    v = next(iter(data_stream))\n",
    "    return list(v[0].keys())[-1]"
   ]
  },
  {
   "cell_type": "code",
   "execution_count": 11,
   "id": "isolated-humidity",
   "metadata": {},
   "outputs": [],
   "source": [
    "def load_datastream(arff_file):\n",
    "    target_name = get_target_variable(arff_file)\n",
    "    datastream = stream.iter_arff(arff_file, target = target_name)\n",
    "    return datastream"
   ]
  },
  {
   "cell_type": "code",
   "execution_count": 53,
   "id": "coastal-folks",
   "metadata": {},
   "outputs": [],
   "source": [
    "def run_experiment(datastream, dataset_name, models, alpha):\n",
    "    \"\"\"\n",
    "    datastream is a river stream object, not the path of an arff file.\n",
    "    \"\"\"\n",
    "    # Ensure iteration doesn't exhaust datastream\n",
    "    datastream = list(datastream)\n",
    "    results = dict() \n",
    "    times = dict()\n",
    "    \n",
    "    for model in models:\n",
    "        results[type(model).__name__] = []\n",
    "        times[type(model).__name__] = []\n",
    "    \n",
    "    t = time.process_time()\n",
    "    \n",
    "    for model in models:\n",
    "        time_start = time.process_time()\n",
    "        for x,y in datastream:\n",
    "            interval = model.predict_interval(x, alpha)\n",
    "            y_hat = model.predict_one(x)\n",
    "            results[type(model).__name__].append([x,y,y_hat, interval, alpha])\n",
    "            model.learn_one(x,y)\n",
    "        time_end = time.process_time()\n",
    "        time_elapsed = time_end - time_start\n",
    "    \n",
    "    experiment_id = str(datetime.now()).replace(\":\",\"-\").replace(\".\",\"-\").replace(\" \", \"-\")\n",
    "    save_experiment(dataset_name, results, alpha, experiment_id)\n",
    "    print(time_elapsed)"
   ]
  },
  {
   "cell_type": "code",
   "execution_count": 47,
   "id": "awful-economics",
   "metadata": {},
   "outputs": [],
   "source": [
    "def save_experiment(dataset_name, results, alpha, experiment_id):\n",
    "    for model_name in results.keys():\n",
    "        filepath = \"./results/\" + dataset_name + \"/\" + model_name + \"/\" + experiment_id + \"/\"\n",
    "        result = results[model_name]\n",
    "        # Create directory for experiment, if it doesn't already exist\n",
    "        os.makedirs(filepath, exist_ok=True)\n",
    "        # save the result\n",
    "        with open(filepath + \"results.pckl\", \"wb\") as pickle_file:\n",
    "            pickle.dump(results, pickle_file)"
   ]
  },
  {
   "cell_type": "code",
   "execution_count": 8,
   "id": "stuffed-forth",
   "metadata": {},
   "outputs": [],
   "source": [
    "models = [\n",
    "        AdaptiveRandomForestRegressorCP(aggregation_method=\"mean\", lambda_value = 1)    ]"
   ]
  },
  {
   "cell_type": "code",
   "execution_count": null,
   "id": "arbitrary-dollar",
   "metadata": {},
   "outputs": [],
   "source": [
    "def run_experiment(datastream, dataset_name, models, alpha):\n",
    "\n",
    "    ds = load_datastream()"
   ]
  },
  {
   "cell_type": "code",
   "execution_count": 37,
   "id": "refined-baker",
   "metadata": {},
   "outputs": [],
   "source": [
    "ds = list(load_datastream(\"data/stationary/2dplanes.arff\"))\n",
    "dataset_name = \"2dplanes\"\n",
    "models = [AdaptiveRandomForestRegressorQRF(lambda_value = 1)]\n",
    "alpha = 0.1"
   ]
  },
  {
   "cell_type": "code",
   "execution_count": 55,
   "id": "lined-conspiracy",
   "metadata": {},
   "outputs": [
    {
     "name": "stdout",
     "output_type": "stream",
     "text": [
      "1.523071999999999\n"
     ]
    }
   ],
   "source": [
    "run_experiment(ds[0:1000], dataset_name, models, alpha)"
   ]
  },
  {
   "cell_type": "code",
   "execution_count": 64,
   "id": "decimal-singer",
   "metadata": {},
   "outputs": [],
   "source": [
    "# Defining the metrics\n",
    "# results of the form \n",
    "# list([x, y, y_hat, interval, alpha])\n",
    "def remove_inf_results(results):\n",
    "    filtered_results = filter(lambda x: x[3][0] != -math.inf and x[3][1] != math.inf, results)\n",
    "    return filtered_results\n",
    "    \n",
    "def mean_error_rate(results):\n",
    "    filtered_results = remove_inf_results(results)\n",
    "    # sum instances where y isn't in confidence interval\n",
    "    s = sum([x[1] < x[3][0] or x[1]> x[3][1] for x in filtered_results])\n",
    "    n = len(filtered_results)\n",
    "    return s/n\n",
    "    \n",
    "\n",
    "def relative_interval_size(results):\n",
    "    filtered_results = remove_inf_results(results)\n",
    "    y_vals = [item[1] for item in filtered_results]\n",
    "    rho = max(y_vals) - min(y_vals)\n",
    "    # sum length of intervals\n",
    "    s = sum(x[3][1] - x[3][0] for x in filtered_results)\n",
    "    n = len(filtered_results)\n",
    "    return s/(rho*n)\n",
    "\n",
    "    \n",
    "def quantile_loss(results):\n",
    "    filtered_results = remove_inf_results(results)\n",
    "    alpha = results[0][4]\n",
    "    a = alpha*relative_interval_size(results)\n",
    "    def single_interval_loss(y, interval):\n",
    "        max(min(interval)-y, y- max(interval), 0)\n",
    "    s = sum([single_interval_loss(x[1], x[3]) for x in filtered_results])\n",
    "    y_vals = [item[1] for item in filtered_results]\n",
    "    rho = max(y_vals) - min(y_vals)\n",
    "    return a + (s/(n*rho))\n",
    "         \n",
    "\n",
    "def utility(results):\n",
    "    filtered_results = remove_inf_results(results)\n",
    "    alpha = results[0][4]\n",
    "    gamma = 2*np.log(2)/alpha\n",
    "    mer = mean_error_rate(results)\n",
    "    ris = relative_interval_size(results)\n",
    "    if mer <= alpha:\n",
    "        return 1-ris\n",
    "    else:\n",
    "        return (1-ris)*np.exp(-gamma*(mer - alpha))"
   ]
  },
  {
   "cell_type": "code",
   "execution_count": 58,
   "id": "single-antarctica",
   "metadata": {},
   "outputs": [
    {
     "data": {
      "text/plain": [
       "2"
      ]
     },
     "execution_count": 58,
     "metadata": {},
     "output_type": "execute_result"
    }
   ],
   "source": [
    "False + 2"
   ]
  },
  {
   "cell_type": "code",
   "execution_count": 59,
   "id": "destroyed-rabbit",
   "metadata": {},
   "outputs": [
    {
     "data": {
      "text/plain": [
       "0.0"
      ]
     },
     "execution_count": 59,
     "metadata": {},
     "output_type": "execute_result"
    }
   ],
   "source": [
    "False*0.2"
   ]
  },
  {
   "cell_type": "code",
   "execution_count": 60,
   "id": "baking-armor",
   "metadata": {},
   "outputs": [
    {
     "data": {
      "text/plain": [
       "0.3"
      ]
     },
     "execution_count": 60,
     "metadata": {},
     "output_type": "execute_result"
    }
   ],
   "source": [
    "True*0.3"
   ]
  },
  {
   "cell_type": "code",
   "execution_count": 61,
   "id": "threatened-produce",
   "metadata": {},
   "outputs": [
    {
     "data": {
      "text/plain": [
       "2"
      ]
     },
     "execution_count": 61,
     "metadata": {},
     "output_type": "execute_result"
    }
   ],
   "source": [
    "max(0,-1, 2)"
   ]
  },
  {
   "cell_type": "code",
   "execution_count": 62,
   "id": "mathematical-guitar",
   "metadata": {},
   "outputs": [
    {
     "data": {
      "text/plain": [
       "2"
      ]
     },
     "execution_count": 62,
     "metadata": {},
     "output_type": "execute_result"
    }
   ],
   "source": [
    "max([1,2])"
   ]
  },
  {
   "cell_type": "code",
   "execution_count": null,
   "id": "alleged-butler",
   "metadata": {},
   "outputs": [],
   "source": []
  }
 ],
 "metadata": {
  "kernelspec": {
   "display_name": "Python 3",
   "language": "python",
   "name": "python3"
  },
  "language_info": {
   "codemirror_mode": {
    "name": "ipython",
    "version": 3
   },
   "file_extension": ".py",
   "mimetype": "text/x-python",
   "name": "python",
   "nbconvert_exporter": "python",
   "pygments_lexer": "ipython3",
   "version": "3.9.1"
  }
 },
 "nbformat": 4,
 "nbformat_minor": 5
}
